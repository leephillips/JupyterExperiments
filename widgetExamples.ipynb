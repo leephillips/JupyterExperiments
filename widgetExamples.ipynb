{
 "cells": [
  {
   "cell_type": "code",
   "execution_count": 44,
   "metadata": {},
   "outputs": [],
   "source": [
    "from ipywidgets import *\n",
    "import pylab\n",
    "import numpy as np\n",
    "%matplotlib inline"
   ]
  },
  {
   "cell_type": "code",
   "execution_count": 48,
   "metadata": {},
   "outputs": [],
   "source": [
    "nx = 200\n",
    "x = np.arange(0, nx, 1)*(2*np.pi)/nx\n",
    "def nsin(n = 2.):\n",
    "    pylab.plot(np.sin(n*x))\n",
    "    "
   ]
  },
  {
   "cell_type": "code",
   "execution_count": 52,
   "metadata": {},
   "outputs": [
    {
     "data": {
      "application/vnd.jupyter.widget-view+json": {
       "model_id": "0c889763076a41b0bdef0cb3b7832ae2",
       "version_major": 2,
       "version_minor": 0
      },
      "text/html": [
       "<p>Failed to display Jupyter Widget of type <code>interactive</code>.</p>\n",
       "<p>\n",
       "  If you're reading this message in the Jupyter Notebook or JupyterLab Notebook, it may mean\n",
       "  that the widgets JavaScript is still loading. If this message persists, it\n",
       "  likely means that the widgets JavaScript library is either not installed or\n",
       "  not enabled. See the <a href=\"https://ipywidgets.readthedocs.io/en/stable/user_install.html\">Jupyter\n",
       "  Widgets Documentation</a> for setup instructions.\n",
       "</p>\n",
       "<p>\n",
       "  If you're reading this message in another frontend (for example, a static\n",
       "  rendering on GitHub or <a href=\"https://nbviewer.jupyter.org/\">NBViewer</a>),\n",
       "  it may mean that your frontend doesn't currently support widgets.\n",
       "</p>\n"
      ],
      "text/plain": [
       "interactive(children=(FloatSlider(value=2.0, description='n', max=10.0, min=1.0, step=0.5), Output()), _dom_classes=('widget-interact',))"
      ]
     },
     "metadata": {},
     "output_type": "display_data"
    },
    {
     "data": {
      "text/plain": [
       "<function __main__.nsin>"
      ]
     },
     "execution_count": 52,
     "metadata": {},
     "output_type": "execute_result"
    }
   ],
   "source": [
    "interact(nsin, n=(1., 10., .5))"
   ]
  },
  {
   "cell_type": "code",
   "execution_count": null,
   "metadata": {},
   "outputs": [],
   "source": []
  }
 ],
 "metadata": {
  "kernelspec": {
   "display_name": "Python 3",
   "language": "python",
   "name": "python3"
  },
  "language_info": {
   "codemirror_mode": {
    "name": "ipython",
    "version": 3
   },
   "file_extension": ".py",
   "mimetype": "text/x-python",
   "name": "python",
   "nbconvert_exporter": "python",
   "pygments_lexer": "ipython3",
   "version": "3.6.3"
  },
  "widgets": {
   "application/vnd.jupyter.widget-state+json": {
    "state": {
     "17e28e37797a45b780b306a5481a9236": {
      "model_module": "@jupyter-widgets/controls",
      "model_module_version": "1.0.0",
      "model_name": "IntSliderModel",
      "state": {
       "description": "n",
       "layout": "IPY_MODEL_95db5903521b420a82bcbc0d3e742f7a",
       "max": 30,
       "min": -10,
       "style": "IPY_MODEL_9c5e0ee594ca44cd811e1ce35c8d04ab",
       "value": -9
      }
     },
     "1b8e869da82c473ebe1016ac74fdc8ff": {
      "model_module": "@jupyter-widgets/controls",
      "model_module_version": "1.0.0",
      "model_name": "IntSliderModel",
      "state": {
       "layout": "IPY_MODEL_e567201b6c4a47268baaf5f59696ec9f",
       "style": "IPY_MODEL_d8017ab81ecd44b99e2a46e3a1d86672",
       "value": 40
      }
     },
     "202420a5339b43c983e8cb7a040e5d31": {
      "model_module": "@jupyter-widgets/base",
      "model_module_version": "1.0.0",
      "model_name": "LayoutModel",
      "state": {}
     },
     "2c09179ed1314b7d8e74952d526716f4": {
      "model_module": "@jupyter-widgets/base",
      "model_module_version": "1.0.0",
      "model_name": "LayoutModel",
      "state": {}
     },
     "2d3be2070f5d451aa9c267882b2416c1": {
      "model_module": "@jupyter-widgets/controls",
      "model_module_version": "1.0.0",
      "model_name": "VBoxModel",
      "state": {
       "_dom_classes": [
        "widget-interact"
       ],
       "children": [
        "IPY_MODEL_37dcd71ecf2249298a021808fb339d6d",
        "IPY_MODEL_cb823084e16044898a480196eeb1b37a"
       ],
       "layout": "IPY_MODEL_2c09179ed1314b7d8e74952d526716f4"
      }
     },
     "37dcd71ecf2249298a021808fb339d6d": {
      "model_module": "@jupyter-widgets/controls",
      "model_module_version": "1.0.0",
      "model_name": "IntSliderModel",
      "state": {
       "description": "n",
       "layout": "IPY_MODEL_f86bb90c073e4fc5b72f35b2ee9a45fa",
       "max": 15,
       "min": -5,
       "style": "IPY_MODEL_c920fd9cad5b4ab689d9fb7785028629",
       "value": 6
      }
     },
     "4b74557692f44256973beabba0041897": {
      "model_module": "@jupyter-widgets/output",
      "model_module_version": "1.0.0",
      "model_name": "OutputModel",
      "state": {
       "layout": "IPY_MODEL_578fb75614154a52942b46418f745278",
       "outputs": [
        {
         "data": {
          "text/plain": "[]"
         },
         "metadata": {},
         "output_type": "display_data"
        }
       ]
      }
     },
     "4ff61827677e4b3d9dd303ab891c8972": {
      "model_module": "@jupyter-widgets/controls",
      "model_module_version": "1.0.0",
      "model_name": "VBoxModel",
      "state": {
       "_dom_classes": [
        "widget-interact"
       ],
       "children": [
        "IPY_MODEL_a9e401d40ada442c8dfe9f275bf355ae",
        "IPY_MODEL_72001932b03043888adca2dbed3c4610"
       ],
       "layout": "IPY_MODEL_eff7bf3b2d3245eb8bd61e99bf41fba7"
      }
     },
     "5625af0c43dd43eebe94bb1804895e35": {
      "model_module": "@jupyter-widgets/base",
      "model_module_version": "1.0.0",
      "model_name": "LayoutModel",
      "state": {}
     },
     "578fb75614154a52942b46418f745278": {
      "model_module": "@jupyter-widgets/base",
      "model_module_version": "1.0.0",
      "model_name": "LayoutModel",
      "state": {}
     },
     "67db7318bd0c4f6eb979a9b04e906551": {
      "model_module": "@jupyter-widgets/controls",
      "model_module_version": "1.0.0",
      "model_name": "VBoxModel",
      "state": {
       "_dom_classes": [
        "widget-interact"
       ],
       "children": [
        "IPY_MODEL_17e28e37797a45b780b306a5481a9236",
        "IPY_MODEL_4b74557692f44256973beabba0041897"
       ],
       "layout": "IPY_MODEL_202420a5339b43c983e8cb7a040e5d31"
      }
     },
     "6d58ed5131ee4d919e754961136786be": {
      "model_module": "@jupyter-widgets/base",
      "model_module_version": "1.0.0",
      "model_name": "LayoutModel",
      "state": {}
     },
     "72001932b03043888adca2dbed3c4610": {
      "model_module": "@jupyter-widgets/output",
      "model_module_version": "1.0.0",
      "model_name": "OutputModel",
      "state": {
       "layout": "IPY_MODEL_a8bd070ca7864cc1ad603cadee99baf6",
       "outputs": [
        {
         "data": {
          "text/plain": "[0, 1, 2, 3, 4, 5, 6, 7]"
         },
         "metadata": {},
         "output_type": "display_data"
        }
       ]
      }
     },
     "7cdd4912b9934c47aaa28feb6d7d6cb8": {
      "model_module": "@jupyter-widgets/controls",
      "model_module_version": "1.0.0",
      "model_name": "VBoxModel",
      "state": {
       "_dom_classes": [
        "widget-interact"
       ],
       "layout": "IPY_MODEL_5625af0c43dd43eebe94bb1804895e35"
      }
     },
     "95db5903521b420a82bcbc0d3e742f7a": {
      "model_module": "@jupyter-widgets/base",
      "model_module_version": "1.0.0",
      "model_name": "LayoutModel",
      "state": {}
     },
     "9c5e0ee594ca44cd811e1ce35c8d04ab": {
      "model_module": "@jupyter-widgets/controls",
      "model_module_version": "1.0.0",
      "model_name": "SliderStyleModel",
      "state": {
       "description_width": ""
      }
     },
     "a38c6045549546e182c5cf9c84631539": {
      "model_module": "@jupyter-widgets/controls",
      "model_module_version": "1.0.0",
      "model_name": "SliderStyleModel",
      "state": {
       "description_width": ""
      }
     },
     "a8bd070ca7864cc1ad603cadee99baf6": {
      "model_module": "@jupyter-widgets/base",
      "model_module_version": "1.0.0",
      "model_name": "LayoutModel",
      "state": {}
     },
     "a9e401d40ada442c8dfe9f275bf355ae": {
      "model_module": "@jupyter-widgets/controls",
      "model_module_version": "1.0.0",
      "model_name": "IntSliderModel",
      "state": {
       "description": "n",
       "layout": "IPY_MODEL_6d58ed5131ee4d919e754961136786be",
       "max": 30,
       "min": -10,
       "style": "IPY_MODEL_a38c6045549546e182c5cf9c84631539",
       "value": 8
      }
     },
     "c4c26e94bc1c4dfcbb2863aa7cdcc182": {
      "model_module": "@jupyter-widgets/base",
      "model_module_version": "1.0.0",
      "model_name": "LayoutModel",
      "state": {}
     },
     "c920fd9cad5b4ab689d9fb7785028629": {
      "model_module": "@jupyter-widgets/controls",
      "model_module_version": "1.0.0",
      "model_name": "SliderStyleModel",
      "state": {
       "description_width": ""
      }
     },
     "cb823084e16044898a480196eeb1b37a": {
      "model_module": "@jupyter-widgets/output",
      "model_module_version": "1.0.0",
      "model_name": "OutputModel",
      "state": {
       "layout": "IPY_MODEL_c4c26e94bc1c4dfcbb2863aa7cdcc182",
       "outputs": [
        {
         "data": {
          "text/plain": "[0, 1, 2, 3, 4, 5]"
         },
         "metadata": {},
         "output_type": "display_data"
        }
       ]
      }
     },
     "d8017ab81ecd44b99e2a46e3a1d86672": {
      "model_module": "@jupyter-widgets/controls",
      "model_module_version": "1.0.0",
      "model_name": "SliderStyleModel",
      "state": {
       "description_width": ""
      }
     },
     "e567201b6c4a47268baaf5f59696ec9f": {
      "model_module": "@jupyter-widgets/base",
      "model_module_version": "1.0.0",
      "model_name": "LayoutModel",
      "state": {}
     },
     "eff7bf3b2d3245eb8bd61e99bf41fba7": {
      "model_module": "@jupyter-widgets/base",
      "model_module_version": "1.0.0",
      "model_name": "LayoutModel",
      "state": {}
     },
     "f86bb90c073e4fc5b72f35b2ee9a45fa": {
      "model_module": "@jupyter-widgets/base",
      "model_module_version": "1.0.0",
      "model_name": "LayoutModel",
      "state": {}
     }
    },
    "version_major": 2,
    "version_minor": 0
   }
  }
 },
 "nbformat": 4,
 "nbformat_minor": 2
}
